{
 "cells": [
  {
   "cell_type": "markdown",
   "id": "7104ac7d",
   "metadata": {},
   "source": [
    "# EDA of the Papers by Subject dataset\n",
    "\n",
    "The dataset used in this project can be found on Kaggle: [Papers by Subject](https://www.kaggle.com/datasets/arplusman/papers-by-subject?resource=download)"
   ]
  },
  {
   "cell_type": "code",
   "execution_count": null,
   "id": "f2f58a35",
   "metadata": {},
   "outputs": [
    {
     "name": "stderr",
     "output_type": "stream",
     "text": [
      "/opt/homebrew/Caskroom/miniconda/base/envs/mlops/lib/python3.12/site-packages/tqdm/auto.py:21: TqdmWarning: IProgress not found. Please update jupyter and ipywidgets. See https://ipywidgets.readthedocs.io/en/stable/user_install.html\n",
      "  from .autonotebook import tqdm as notebook_tqdm\n"
     ]
    }
   ],
   "source": [
    "import pandas as pd\n",
    "import matplotlib.pyplot as plt\n",
    "import numpy as np\n",
    "from sentence_transformers import SentenceTransformer\n",
    "from sklearn.preprocessing import OneHotEncoder\n",
    "from sklearn.metrics.pairwise import cosine_similarity\n",
    "import json"
   ]
  },
  {
   "cell_type": "markdown",
   "id": "82ba0bb9",
   "metadata": {},
   "source": [
    "# Data preparation\n",
    "\n",
    "First we will prepare our data by removing unused columns, checking for nan or null value, and also removing duplicates."
   ]
  },
  {
   "cell_type": "code",
   "execution_count": 2,
   "id": "26f27df2",
   "metadata": {},
   "outputs": [
    {
     "data": {
      "text/html": [
       "<div>\n",
       "<style scoped>\n",
       "    .dataframe tbody tr th:only-of-type {\n",
       "        vertical-align: middle;\n",
       "    }\n",
       "\n",
       "    .dataframe tbody tr th {\n",
       "        vertical-align: top;\n",
       "    }\n",
       "\n",
       "    .dataframe thead th {\n",
       "        text-align: right;\n",
       "    }\n",
       "</style>\n",
       "<table border=\"1\" class=\"dataframe\">\n",
       "  <thead>\n",
       "    <tr style=\"text-align: right;\">\n",
       "      <th></th>\n",
       "      <th>Unnamed: 0</th>\n",
       "      <th>id</th>\n",
       "      <th>Title</th>\n",
       "      <th>Summary</th>\n",
       "      <th>Author</th>\n",
       "      <th>Link</th>\n",
       "      <th>Publish Date</th>\n",
       "      <th>Update Date</th>\n",
       "      <th>Primary Category</th>\n",
       "      <th>Category</th>\n",
       "    </tr>\n",
       "  </thead>\n",
       "  <tbody>\n",
       "    <tr>\n",
       "      <th>0</th>\n",
       "      <td>0</td>\n",
       "      <td>cs/9308101v1</td>\n",
       "      <td>Dynamic Backtracking</td>\n",
       "      <td>Because of their occasional need to return to ...</td>\n",
       "      <td>M. L. Ginsberg</td>\n",
       "      <td>http://arxiv.org/pdf/cs/9308101v1</td>\n",
       "      <td>1993-08-01T00:00:00Z</td>\n",
       "      <td>1993-08-01T00:00:00Z</td>\n",
       "      <td>cs.AI</td>\n",
       "      <td>['cs.AI']</td>\n",
       "    </tr>\n",
       "    <tr>\n",
       "      <th>1</th>\n",
       "      <td>1</td>\n",
       "      <td>cs/9308102v1</td>\n",
       "      <td>A Market-Oriented Programming Environment and ...</td>\n",
       "      <td>Market price systems constitute a well-underst...</td>\n",
       "      <td>M. P. Wellman</td>\n",
       "      <td>http://arxiv.org/pdf/cs/9308102v1</td>\n",
       "      <td>1993-08-01T00:00:00Z</td>\n",
       "      <td>1993-08-01T00:00:00Z</td>\n",
       "      <td>cs.AI</td>\n",
       "      <td>['cs.AI']</td>\n",
       "    </tr>\n",
       "    <tr>\n",
       "      <th>2</th>\n",
       "      <td>2</td>\n",
       "      <td>cs/9309101v1</td>\n",
       "      <td>An Empirical Analysis of Search in GSAT</td>\n",
       "      <td>We describe an extensive study of search in GS...</td>\n",
       "      <td>I. P. Gent</td>\n",
       "      <td>http://arxiv.org/pdf/cs/9309101v1</td>\n",
       "      <td>1993-09-01T00:00:00Z</td>\n",
       "      <td>1993-09-01T00:00:00Z</td>\n",
       "      <td>cs.AI</td>\n",
       "      <td>['cs.AI']</td>\n",
       "    </tr>\n",
       "    <tr>\n",
       "      <th>3</th>\n",
       "      <td>3</td>\n",
       "      <td>cs/9311101v1</td>\n",
       "      <td>The Difficulties of Learning Logic Programs wi...</td>\n",
       "      <td>As real logic programmers normally use cut (!)...</td>\n",
       "      <td>F. Bergadano</td>\n",
       "      <td>http://arxiv.org/pdf/cs/9311101v1</td>\n",
       "      <td>1993-11-01T00:00:00Z</td>\n",
       "      <td>1993-11-01T00:00:00Z</td>\n",
       "      <td>cs.AI</td>\n",
       "      <td>['cs.AI']</td>\n",
       "    </tr>\n",
       "    <tr>\n",
       "      <th>4</th>\n",
       "      <td>4</td>\n",
       "      <td>cs/9311102v1</td>\n",
       "      <td>Software Agents: Completing Patterns and Const...</td>\n",
       "      <td>To support the goal of allowing users to recor...</td>\n",
       "      <td>J. C. Schlimmer</td>\n",
       "      <td>http://arxiv.org/pdf/cs/9311102v1</td>\n",
       "      <td>1993-11-01T00:00:00Z</td>\n",
       "      <td>1993-11-01T00:00:00Z</td>\n",
       "      <td>cs.AI</td>\n",
       "      <td>['cs.AI']</td>\n",
       "    </tr>\n",
       "  </tbody>\n",
       "</table>\n",
       "</div>"
      ],
      "text/plain": [
       "   Unnamed: 0            id  \\\n",
       "0           0  cs/9308101v1   \n",
       "1           1  cs/9308102v1   \n",
       "2           2  cs/9309101v1   \n",
       "3           3  cs/9311101v1   \n",
       "4           4  cs/9311102v1   \n",
       "\n",
       "                                               Title  \\\n",
       "0                               Dynamic Backtracking   \n",
       "1  A Market-Oriented Programming Environment and ...   \n",
       "2            An Empirical Analysis of Search in GSAT   \n",
       "3  The Difficulties of Learning Logic Programs wi...   \n",
       "4  Software Agents: Completing Patterns and Const...   \n",
       "\n",
       "                                             Summary           Author  \\\n",
       "0  Because of their occasional need to return to ...   M. L. Ginsberg   \n",
       "1  Market price systems constitute a well-underst...    M. P. Wellman   \n",
       "2  We describe an extensive study of search in GS...       I. P. Gent   \n",
       "3  As real logic programmers normally use cut (!)...     F. Bergadano   \n",
       "4  To support the goal of allowing users to recor...  J. C. Schlimmer   \n",
       "\n",
       "                                Link          Publish Date  \\\n",
       "0  http://arxiv.org/pdf/cs/9308101v1  1993-08-01T00:00:00Z   \n",
       "1  http://arxiv.org/pdf/cs/9308102v1  1993-08-01T00:00:00Z   \n",
       "2  http://arxiv.org/pdf/cs/9309101v1  1993-09-01T00:00:00Z   \n",
       "3  http://arxiv.org/pdf/cs/9311101v1  1993-11-01T00:00:00Z   \n",
       "4  http://arxiv.org/pdf/cs/9311102v1  1993-11-01T00:00:00Z   \n",
       "\n",
       "            Update Date Primary Category   Category  \n",
       "0  1993-08-01T00:00:00Z            cs.AI  ['cs.AI']  \n",
       "1  1993-08-01T00:00:00Z            cs.AI  ['cs.AI']  \n",
       "2  1993-09-01T00:00:00Z            cs.AI  ['cs.AI']  \n",
       "3  1993-11-01T00:00:00Z            cs.AI  ['cs.AI']  \n",
       "4  1993-11-01T00:00:00Z            cs.AI  ['cs.AI']  "
      ]
     },
     "execution_count": 2,
     "metadata": {},
     "output_type": "execute_result"
    }
   ],
   "source": [
    "papers = pd.read_csv('../data/arXiv-DataFrame.csv')\n",
    "\n",
    "papers.head()"
   ]
  },
  {
   "cell_type": "markdown",
   "id": "490d4fa3",
   "metadata": {},
   "source": [
    "Here :\n",
    "- `Unnamed` corresponds to an index, but it is not needed\n",
    "- `id`  corresponds to the paper's id, but it is not needed"
   ]
  },
  {
   "cell_type": "code",
   "execution_count": 3,
   "id": "fc5249e8",
   "metadata": {},
   "outputs": [],
   "source": [
    "papers.drop(columns=['Unnamed: 0', 'id'], inplace=True, errors='ignore')"
   ]
  },
  {
   "cell_type": "markdown",
   "id": "d9687f2a",
   "metadata": {},
   "source": [
    "Let's check the different types, and the Null values"
   ]
  },
  {
   "cell_type": "code",
   "execution_count": 4,
   "id": "09638225",
   "metadata": {},
   "outputs": [
    {
     "data": {
      "text/plain": [
       "Index(['Title', 'Summary', 'Author', 'Link', 'Publish Date', 'Update Date',\n",
       "       'Primary Category', 'Category'],\n",
       "      dtype='object')"
      ]
     },
     "metadata": {},
     "output_type": "display_data"
    },
    {
     "data": {
      "text/plain": [
       "Title               object\n",
       "Summary             object\n",
       "Author              object\n",
       "Link                object\n",
       "Publish Date        object\n",
       "Update Date         object\n",
       "Primary Category    object\n",
       "Category            object\n",
       "dtype: object"
      ]
     },
     "metadata": {},
     "output_type": "display_data"
    },
    {
     "data": {
      "text/plain": [
       "Title               0\n",
       "Summary             0\n",
       "Author              0\n",
       "Link                0\n",
       "Publish Date        0\n",
       "Update Date         0\n",
       "Primary Category    0\n",
       "Category            0\n",
       "dtype: int64"
      ]
     },
     "execution_count": 4,
     "metadata": {},
     "output_type": "execute_result"
    }
   ],
   "source": [
    "display(papers.columns)\n",
    "display(papers.dtypes)\n",
    "\n",
    "papers.replace([\"\", \" \", \"nan\", \"None\"], np.nan, inplace=True)\n",
    "\n",
    "papers.isnull().sum()"
   ]
  },
  {
   "cell_type": "markdown",
   "id": "f66bd605",
   "metadata": {},
   "source": [
    "Now let's check if there are any duplicates"
   ]
  },
  {
   "cell_type": "code",
   "execution_count": 5,
   "id": "f4ee4a71",
   "metadata": {},
   "outputs": [
    {
     "name": "stdout",
     "output_type": "stream",
     "text": [
      "1075\n"
     ]
    },
    {
     "data": {
      "text/html": [
       "<div>\n",
       "<style scoped>\n",
       "    .dataframe tbody tr th:only-of-type {\n",
       "        vertical-align: middle;\n",
       "    }\n",
       "\n",
       "    .dataframe tbody tr th {\n",
       "        vertical-align: top;\n",
       "    }\n",
       "\n",
       "    .dataframe thead th {\n",
       "        text-align: right;\n",
       "    }\n",
       "</style>\n",
       "<table border=\"1\" class=\"dataframe\">\n",
       "  <thead>\n",
       "    <tr style=\"text-align: right;\">\n",
       "      <th></th>\n",
       "      <th>Title</th>\n",
       "      <th>Summary</th>\n",
       "      <th>Author</th>\n",
       "      <th>Link</th>\n",
       "      <th>Publish Date</th>\n",
       "      <th>Update Date</th>\n",
       "      <th>Primary Category</th>\n",
       "      <th>Category</th>\n",
       "    </tr>\n",
       "  </thead>\n",
       "  <tbody>\n",
       "    <tr>\n",
       "      <th>23173</th>\n",
       "      <td>\"Tunneling\" Amplitudes of a Massless Quantum F...</td>\n",
       "      <td>We propose a method for the approximate comput...</td>\n",
       "      <td>Giovanni Modanese</td>\n",
       "      <td>http://arxiv.org/pdf/math-ph/9805003v1</td>\n",
       "      <td>1998-05-04T15:41:42Z</td>\n",
       "      <td>1998-05-04T15:41:42Z</td>\n",
       "      <td>math-ph</td>\n",
       "      <td>['math-ph', 'math.MP']</td>\n",
       "    </tr>\n",
       "    <tr>\n",
       "      <th>34373</th>\n",
       "      <td>\"Tunneling\" Amplitudes of a Massless Quantum F...</td>\n",
       "      <td>We propose a method for the approximate comput...</td>\n",
       "      <td>Giovanni Modanese</td>\n",
       "      <td>http://arxiv.org/pdf/math-ph/9805003v1</td>\n",
       "      <td>1998-05-04T15:41:42Z</td>\n",
       "      <td>1998-05-04T15:41:42Z</td>\n",
       "      <td>math-ph</td>\n",
       "      <td>['math-ph', 'math.MP']</td>\n",
       "    </tr>\n",
       "    <tr>\n",
       "      <th>23229</th>\n",
       "      <td>(q,h)-analogue of Newton's binomial formula</td>\n",
       "      <td>In this letter, the (q,h)-analogue of Newton's...</td>\n",
       "      <td>H. B. Benaoum</td>\n",
       "      <td>http://arxiv.org/pdf/math-ph/9812028v1</td>\n",
       "      <td>1998-12-28T14:18:53Z</td>\n",
       "      <td>1998-12-28T14:18:53Z</td>\n",
       "      <td>math-ph</td>\n",
       "      <td>['math-ph', 'math.MP']</td>\n",
       "    </tr>\n",
       "    <tr>\n",
       "      <th>34429</th>\n",
       "      <td>(q,h)-analogue of Newton's binomial formula</td>\n",
       "      <td>In this letter, the (q,h)-analogue of Newton's...</td>\n",
       "      <td>H. B. Benaoum</td>\n",
       "      <td>http://arxiv.org/pdf/math-ph/9812028v1</td>\n",
       "      <td>1998-12-28T14:18:53Z</td>\n",
       "      <td>1998-12-28T14:18:53Z</td>\n",
       "      <td>math-ph</td>\n",
       "      <td>['math-ph', 'math.MP']</td>\n",
       "    </tr>\n",
       "    <tr>\n",
       "      <th>23436</th>\n",
       "      <td>1.Classical and Modern Topology. 2.Topological...</td>\n",
       "      <td>Hystory of topology is discussed uncluding the...</td>\n",
       "      <td>Sergey P. Novikov</td>\n",
       "      <td>http://arxiv.org/pdf/math-ph/0004012v1</td>\n",
       "      <td>2000-04-11T16:58:33Z</td>\n",
       "      <td>2000-04-11T16:58:33Z</td>\n",
       "      <td>math-ph</td>\n",
       "      <td>['math-ph', 'math.MP']</td>\n",
       "    </tr>\n",
       "    <tr>\n",
       "      <th>...</th>\n",
       "      <td>...</td>\n",
       "      <td>...</td>\n",
       "      <td>...</td>\n",
       "      <td>...</td>\n",
       "      <td>...</td>\n",
       "      <td>...</td>\n",
       "      <td>...</td>\n",
       "      <td>...</td>\n",
       "    </tr>\n",
       "    <tr>\n",
       "      <th>21906</th>\n",
       "      <td>n-Channel Asymmetric Multiple-Description Latt...</td>\n",
       "      <td>We present analytical expressions for optimal ...</td>\n",
       "      <td>Jan Ostergaard</td>\n",
       "      <td>http://arxiv.org/pdf/cs/0508012v1</td>\n",
       "      <td>2005-08-02T07:52:14Z</td>\n",
       "      <td>2005-08-02T07:52:14Z</td>\n",
       "      <td>cs.IT</td>\n",
       "      <td>['cs.IT', 'math.IT']</td>\n",
       "    </tr>\n",
       "    <tr>\n",
       "      <th>7521</th>\n",
       "      <td>n-Channel Entropy-Constrained Multiple-Descrip...</td>\n",
       "      <td>In this paper we derive analytical expressions...</td>\n",
       "      <td>Jan Ostergaard</td>\n",
       "      <td>http://arxiv.org/pdf/cs/0602035v1</td>\n",
       "      <td>2006-02-09T08:51:57Z</td>\n",
       "      <td>2006-02-09T08:51:57Z</td>\n",
       "      <td>cs.IT</td>\n",
       "      <td>['cs.IT', 'math.IT']</td>\n",
       "    </tr>\n",
       "    <tr>\n",
       "      <th>22071</th>\n",
       "      <td>n-Channel Entropy-Constrained Multiple-Descrip...</td>\n",
       "      <td>In this paper we derive analytical expressions...</td>\n",
       "      <td>Jan Ostergaard</td>\n",
       "      <td>http://arxiv.org/pdf/cs/0602035v1</td>\n",
       "      <td>2006-02-09T08:51:57Z</td>\n",
       "      <td>2006-02-09T08:51:57Z</td>\n",
       "      <td>cs.IT</td>\n",
       "      <td>['cs.IT', 'math.IT']</td>\n",
       "    </tr>\n",
       "    <tr>\n",
       "      <th>27176</th>\n",
       "      <td>zoo: S3 Infrastructure for Regular and Irregul...</td>\n",
       "      <td>zoo is an R package providing an S3 class with...</td>\n",
       "      <td>A. Zeileis</td>\n",
       "      <td>http://arxiv.org/pdf/math/0505527v1</td>\n",
       "      <td>2005-05-25T04:46:35Z</td>\n",
       "      <td>2005-05-25T04:46:35Z</td>\n",
       "      <td>math.ST</td>\n",
       "      <td>['math.ST', 'stat.TH']</td>\n",
       "    </tr>\n",
       "    <tr>\n",
       "      <th>53294</th>\n",
       "      <td>zoo: S3 Infrastructure for Regular and Irregul...</td>\n",
       "      <td>zoo is an R package providing an S3 class with...</td>\n",
       "      <td>A. Zeileis</td>\n",
       "      <td>http://arxiv.org/pdf/math/0505527v1</td>\n",
       "      <td>2005-05-25T04:46:35Z</td>\n",
       "      <td>2005-05-25T04:46:35Z</td>\n",
       "      <td>math.ST</td>\n",
       "      <td>['math.ST', 'stat.TH']</td>\n",
       "    </tr>\n",
       "  </tbody>\n",
       "</table>\n",
       "<p>2150 rows × 8 columns</p>\n",
       "</div>"
      ],
      "text/plain": [
       "                                                   Title  \\\n",
       "23173  \"Tunneling\" Amplitudes of a Massless Quantum F...   \n",
       "34373  \"Tunneling\" Amplitudes of a Massless Quantum F...   \n",
       "23229        (q,h)-analogue of Newton's binomial formula   \n",
       "34429        (q,h)-analogue of Newton's binomial formula   \n",
       "23436  1.Classical and Modern Topology. 2.Topological...   \n",
       "...                                                  ...   \n",
       "21906  n-Channel Asymmetric Multiple-Description Latt...   \n",
       "7521   n-Channel Entropy-Constrained Multiple-Descrip...   \n",
       "22071  n-Channel Entropy-Constrained Multiple-Descrip...   \n",
       "27176  zoo: S3 Infrastructure for Regular and Irregul...   \n",
       "53294  zoo: S3 Infrastructure for Regular and Irregul...   \n",
       "\n",
       "                                                 Summary             Author  \\\n",
       "23173  We propose a method for the approximate comput...  Giovanni Modanese   \n",
       "34373  We propose a method for the approximate comput...  Giovanni Modanese   \n",
       "23229  In this letter, the (q,h)-analogue of Newton's...      H. B. Benaoum   \n",
       "34429  In this letter, the (q,h)-analogue of Newton's...      H. B. Benaoum   \n",
       "23436  Hystory of topology is discussed uncluding the...  Sergey P. Novikov   \n",
       "...                                                  ...                ...   \n",
       "21906  We present analytical expressions for optimal ...     Jan Ostergaard   \n",
       "7521   In this paper we derive analytical expressions...     Jan Ostergaard   \n",
       "22071  In this paper we derive analytical expressions...     Jan Ostergaard   \n",
       "27176  zoo is an R package providing an S3 class with...         A. Zeileis   \n",
       "53294  zoo is an R package providing an S3 class with...         A. Zeileis   \n",
       "\n",
       "                                         Link          Publish Date  \\\n",
       "23173  http://arxiv.org/pdf/math-ph/9805003v1  1998-05-04T15:41:42Z   \n",
       "34373  http://arxiv.org/pdf/math-ph/9805003v1  1998-05-04T15:41:42Z   \n",
       "23229  http://arxiv.org/pdf/math-ph/9812028v1  1998-12-28T14:18:53Z   \n",
       "34429  http://arxiv.org/pdf/math-ph/9812028v1  1998-12-28T14:18:53Z   \n",
       "23436  http://arxiv.org/pdf/math-ph/0004012v1  2000-04-11T16:58:33Z   \n",
       "...                                       ...                   ...   \n",
       "21906       http://arxiv.org/pdf/cs/0508012v1  2005-08-02T07:52:14Z   \n",
       "7521        http://arxiv.org/pdf/cs/0602035v1  2006-02-09T08:51:57Z   \n",
       "22071       http://arxiv.org/pdf/cs/0602035v1  2006-02-09T08:51:57Z   \n",
       "27176     http://arxiv.org/pdf/math/0505527v1  2005-05-25T04:46:35Z   \n",
       "53294     http://arxiv.org/pdf/math/0505527v1  2005-05-25T04:46:35Z   \n",
       "\n",
       "                Update Date Primary Category                Category  \n",
       "23173  1998-05-04T15:41:42Z          math-ph  ['math-ph', 'math.MP']  \n",
       "34373  1998-05-04T15:41:42Z          math-ph  ['math-ph', 'math.MP']  \n",
       "23229  1998-12-28T14:18:53Z          math-ph  ['math-ph', 'math.MP']  \n",
       "34429  1998-12-28T14:18:53Z          math-ph  ['math-ph', 'math.MP']  \n",
       "23436  2000-04-11T16:58:33Z          math-ph  ['math-ph', 'math.MP']  \n",
       "...                     ...              ...                     ...  \n",
       "21906  2005-08-02T07:52:14Z            cs.IT    ['cs.IT', 'math.IT']  \n",
       "7521   2006-02-09T08:51:57Z            cs.IT    ['cs.IT', 'math.IT']  \n",
       "22071  2006-02-09T08:51:57Z            cs.IT    ['cs.IT', 'math.IT']  \n",
       "27176  2005-05-25T04:46:35Z          math.ST  ['math.ST', 'stat.TH']  \n",
       "53294  2005-05-25T04:46:35Z          math.ST  ['math.ST', 'stat.TH']  \n",
       "\n",
       "[2150 rows x 8 columns]"
      ]
     },
     "execution_count": 5,
     "metadata": {},
     "output_type": "execute_result"
    }
   ],
   "source": [
    "# Count total duplicate rows across ALL 8 columns\n",
    "print(papers.duplicated().sum())\n",
    "\n",
    "# Show all duplicate rows (not just the 2nd occurrence),\n",
    "# sorted by title and author for readability\n",
    "papers[papers.duplicated(keep=False)] \\\n",
    "      .sort_values(['Title', 'Author'])"
   ]
  },
  {
   "cell_type": "markdown",
   "id": "331ef52a",
   "metadata": {},
   "source": [
    "We drop the duplicates"
   ]
  },
  {
   "cell_type": "code",
   "execution_count": 6,
   "id": "dd954297",
   "metadata": {},
   "outputs": [
    {
     "data": {
      "text/plain": [
       "Title               53474\n",
       "Summary             53474\n",
       "Author              53474\n",
       "Link                53474\n",
       "Publish Date        53474\n",
       "Update Date         53474\n",
       "Primary Category    53474\n",
       "Category            53474\n",
       "dtype: int64"
      ]
     },
     "metadata": {},
     "output_type": "display_data"
    },
    {
     "data": {
      "text/plain": [
       "Title               52399\n",
       "Summary             52399\n",
       "Author              52399\n",
       "Link                52399\n",
       "Publish Date        52399\n",
       "Update Date         52399\n",
       "Primary Category    52399\n",
       "Category            52399\n",
       "dtype: int64"
      ]
     },
     "metadata": {},
     "output_type": "display_data"
    },
    {
     "data": {
      "text/html": [
       "<div>\n",
       "<style scoped>\n",
       "    .dataframe tbody tr th:only-of-type {\n",
       "        vertical-align: middle;\n",
       "    }\n",
       "\n",
       "    .dataframe tbody tr th {\n",
       "        vertical-align: top;\n",
       "    }\n",
       "\n",
       "    .dataframe thead th {\n",
       "        text-align: right;\n",
       "    }\n",
       "</style>\n",
       "<table border=\"1\" class=\"dataframe\">\n",
       "  <thead>\n",
       "    <tr style=\"text-align: right;\">\n",
       "      <th></th>\n",
       "      <th>Title</th>\n",
       "      <th>Summary</th>\n",
       "      <th>Author</th>\n",
       "      <th>Link</th>\n",
       "      <th>Publish Date</th>\n",
       "      <th>Update Date</th>\n",
       "      <th>Primary Category</th>\n",
       "      <th>Category</th>\n",
       "    </tr>\n",
       "  </thead>\n",
       "  <tbody>\n",
       "  </tbody>\n",
       "</table>\n",
       "</div>"
      ],
      "text/plain": [
       "Empty DataFrame\n",
       "Columns: [Title, Summary, Author, Link, Publish Date, Update Date, Primary Category, Category]\n",
       "Index: []"
      ]
     },
     "execution_count": 6,
     "metadata": {},
     "output_type": "execute_result"
    }
   ],
   "source": [
    "display(papers.count())\n",
    "\n",
    "papers.drop_duplicates(keep='first', inplace=True)\n",
    "\n",
    "display(papers.count())\n",
    "\n",
    "papers[papers.duplicated(keep=False)] \\\n",
    "      .sort_values(['Title', 'Author'])"
   ]
  },
  {
   "cell_type": "code",
   "execution_count": 7,
   "id": "4cb2ecf7",
   "metadata": {},
   "outputs": [
    {
     "data": {
      "text/plain": [
       "Title               52315\n",
       "Summary             52266\n",
       "Author              35189\n",
       "Link                52399\n",
       "Publish Date        51494\n",
       "Update Date         51505\n",
       "Primary Category      154\n",
       "Category             8670\n",
       "dtype: int64"
      ]
     },
     "execution_count": 7,
     "metadata": {},
     "output_type": "execute_result"
    }
   ],
   "source": [
    "papers.nunique()\n"
   ]
  },
  {
   "cell_type": "markdown",
   "id": "5fb59eef",
   "metadata": {},
   "source": [
    "\n",
    "Let's now see the different distributions for the authors and the primary Category."
   ]
  },
  {
   "cell_type": "code",
   "execution_count": 8,
   "id": "6b6c6d5f",
   "metadata": {},
   "outputs": [
    {
     "data": {
      "image/png": "[encoded data removed]",
      "text/plain": [
       "<Figure size 1000x800 with 1 Axes>"
      ]
     },
     "metadata": {},
     "output_type": "display_data"
    }
   ],
   "source": [
    "papers['Author'].value_counts().head(20).plot(kind='barh', figsize=(10,8))\n",
    "plt.show()"
   ]
  },
  {
   "cell_type": "code",
   "execution_count": 9,
   "id": "4479c498",
   "metadata": {},
   "outputs": [
    {
     "data": {
      "image/png": "[encoded data removed]",
      "text/plain": [
       "<Figure size 1200x600 with 1 Axes>"
      ]
     },
     "metadata": {},
     "output_type": "display_data"
    }
   ],
   "source": [
    "papers['Primary Category'].value_counts().plot(kind='bar', figsize=(12,6))\n",
    "plt.show()"
   ]
  },
  {
   "cell_type": "markdown",
   "id": "13e1d415",
   "metadata": {},
   "source": [
    "As we can see the average number of time a category appears is around 350."
   ]
  },
  {
   "cell_type": "code",
   "execution_count": 9,
   "id": "d807378c",
   "metadata": {},
   "outputs": [
    {
     "name": "stdout",
     "output_type": "stream",
     "text": [
      "Number of papers per category:\n",
      "Primary Category\n",
      "cond-mat.stat-mech    383\n",
      "cond-mat.soft         373\n",
      "physics.bio-ph        369\n",
      "cs.CY                 368\n",
      "q-fin.GN              367\n",
      "                     ... \n",
      "q-fin.ST              123\n",
      "comp-gas              114\n",
      "cs.GL                 104\n",
      "physics.atom-ph       100\n",
      "cond-mat                4\n",
      "Name: count, Length: 154, dtype: int64\n"
     ]
    }
   ],
   "source": [
    "# Count of papers per category\n",
    "category_counts = papers['Primary Category'].value_counts()\n",
    "print(\"Number of papers per category:\")\n",
    "print(category_counts)"
   ]
  },
  {
   "cell_type": "markdown",
   "id": "e934c53a",
   "metadata": {},
   "source": [
    "As the data is very big for our computer, we will be using a small subset of the data by thresholding any genre to 100 papers max, and every authors to 20 papers max."
   ]
  },
  {
   "cell_type": "code",
   "execution_count": 10,
   "id": "57117925",
   "metadata": {},
   "outputs": [
    {
     "name": "stdout",
     "output_type": "stream",
     "text": [
      "After truncating Author: 52210 rows\n",
      "After truncating Primary Category: 15304 rows\n",
      "20\n",
      "100\n"
     ]
    }
   ],
   "source": [
    "# -------------------------------\n",
    "# 1. Limit authors to max 20 papers\n",
    "# -------------------------------\n",
    "max_author_count = 20\n",
    "\n",
    "def truncate_group(df, group_col, max_count):\n",
    "    truncated_df = df.groupby(group_col).head(max_count)\n",
    "    print(f\"After truncating {group_col}: {len(truncated_df)} rows\")\n",
    "    return truncated_df\n",
    "\n",
    "papers = truncate_group(papers, 'Author', max_author_count)\n",
    "\n",
    "# -------------------------------\n",
    "# 2. Limit categories to max 100 papers\n",
    "# -------------------------------\n",
    "max_category_count = 100\n",
    "papers = truncate_group(papers, 'Primary Category', max_category_count)\n",
    "\n",
    "# Check counts after truncation\n",
    "print(papers['Author'].value_counts().max())          # Should be <= 20\n",
    "print(papers['Primary Category'].value_counts().max()) # Should be <= 100\n"
   ]
  },
  {
   "cell_type": "code",
   "execution_count": null,
   "id": "8fc4d53d",
   "metadata": {},
   "outputs": [],
   "source": [
    "with open(\"map_category.json\", \"r\") as f:\n",
    "    category_map = json.load(f)\n",
    "\n",
    "papers[\"Category\"] = papers[\"Primary Category\"].map(category_map).fillna(\"Other\")"
   ]
  },
  {
   "cell_type": "code",
   "execution_count": 21,
   "id": "7d1e66ae",
   "metadata": {},
   "outputs": [
    {
     "data": {
      "text/plain": [
       "153"
      ]
     },
     "execution_count": 21,
     "metadata": {},
     "output_type": "execute_result"
    }
   ],
   "source": [
    "papers[\"Category\"].nunique()"
   ]
  },
  {
   "cell_type": "markdown",
   "id": "cd1a55fa",
   "metadata": {},
   "source": [
    "# Content Based"
   ]
  },
  {
   "cell_type": "code",
   "execution_count": 12,
   "id": "c8d61d43",
   "metadata": {},
   "outputs": [],
   "source": [
    "# Combine Title and Summary\n",
    "papers['text'] = papers['Title'].fillna('') + \" \" + papers['Summary'].fillna('')\n",
    "\n",
    "try:\n",
    "    # Try to load existing embeddings\n",
    "    text_embeddings = np.load('text_embeddings.npy')\n",
    "    if not isinstance(text_embeddings, np.ndarray):\n",
    "        raise ValueError(\"Loaded embeddings are not a NumPy array. Recomputing embeddings.\")\n",
    "except (FileNotFoundError, ValueError):\n",
    "    # If file doesn't exist or is invalid, compute embeddings\n",
    "    model = SentenceTransformer('all-MiniLM-L6-v2') \n",
    "    text_embeddings = model.encode(papers['text'].tolist(), show_progress_bar=True)\n",
    "    np.save('text_embeddings.npy', text_embeddings)\n"
   ]
  },
  {
   "cell_type": "code",
   "execution_count": 13,
   "id": "08b0c8d1",
   "metadata": {},
   "outputs": [],
   "source": [
    "papers.to_csv('papers.csv', index=False)"
   ]
  },
  {
   "cell_type": "code",
   "execution_count": null,
   "id": "fcf4f861",
   "metadata": {},
   "outputs": [],
   "source": [
    "categorical_cols = ['Author', 'Primary Category', 'Category']\n",
    "\n",
    "try:\n",
    "    # Try to load existing categorical embeddings\n",
    "    cat_embeddings = np.load('cat_embeddings.npy', allow_pickle=True)\n",
    "    if not isinstance(cat_embeddings, np.ndarray):\n",
    "        raise ValueError(\"Loaded embeddings are not a NumPy array. Recomputing embeddings.\")\n",
    "except (FileNotFoundError, ValueError):\n",
    "    # If file doesn't exist or is invalid, compute embeddings\n",
    "    encoder = OneHotEncoder(handle_unknown='ignore', sparse_output=False)\n",
    "    cat_embeddings = encoder.fit_transform(papers[categorical_cols].fillna(''))\n",
    "    np.save('cat_embeddings.npy', cat_embeddings)"
   ]
  },
  {
   "cell_type": "code",
   "execution_count": 15,
   "id": "fa97df3f",
   "metadata": {},
   "outputs": [
    {
     "data": {
      "text/html": [
       "<div>\n",
       "<style scoped>\n",
       "    .dataframe tbody tr th:only-of-type {\n",
       "        vertical-align: middle;\n",
       "    }\n",
       "\n",
       "    .dataframe tbody tr th {\n",
       "        vertical-align: top;\n",
       "    }\n",
       "\n",
       "    .dataframe thead th {\n",
       "        text-align: right;\n",
       "    }\n",
       "</style>\n",
       "<table border=\"1\" class=\"dataframe\">\n",
       "  <thead>\n",
       "    <tr style=\"text-align: right;\">\n",
       "      <th></th>\n",
       "      <th>Title</th>\n",
       "      <th>Summary</th>\n",
       "      <th>Author</th>\n",
       "      <th>Link</th>\n",
       "      <th>Publish Date</th>\n",
       "      <th>Update Date</th>\n",
       "      <th>Primary Category</th>\n",
       "      <th>Category</th>\n",
       "      <th>text</th>\n",
       "    </tr>\n",
       "  </thead>\n",
       "  <tbody>\n",
       "    <tr>\n",
       "      <th>0</th>\n",
       "      <td>Dynamic Backtracking</td>\n",
       "      <td>Because of their occasional need to return to ...</td>\n",
       "      <td>M. L. Ginsberg</td>\n",
       "      <td>http://arxiv.org/pdf/cs/9308101v1</td>\n",
       "      <td>1993-08-01T00:00:00Z</td>\n",
       "      <td>1993-08-01T00:00:00Z</td>\n",
       "      <td>cs.AI</td>\n",
       "      <td>['cs.AI']</td>\n",
       "      <td>Dynamic Backtracking Because of their occasion...</td>\n",
       "    </tr>\n",
       "    <tr>\n",
       "      <th>1</th>\n",
       "      <td>A Market-Oriented Programming Environment and ...</td>\n",
       "      <td>Market price systems constitute a well-underst...</td>\n",
       "      <td>M. P. Wellman</td>\n",
       "      <td>http://arxiv.org/pdf/cs/9308102v1</td>\n",
       "      <td>1993-08-01T00:00:00Z</td>\n",
       "      <td>1993-08-01T00:00:00Z</td>\n",
       "      <td>cs.AI</td>\n",
       "      <td>['cs.AI']</td>\n",
       "      <td>A Market-Oriented Programming Environment and ...</td>\n",
       "    </tr>\n",
       "    <tr>\n",
       "      <th>2</th>\n",
       "      <td>An Empirical Analysis of Search in GSAT</td>\n",
       "      <td>We describe an extensive study of search in GS...</td>\n",
       "      <td>I. P. Gent</td>\n",
       "      <td>http://arxiv.org/pdf/cs/9309101v1</td>\n",
       "      <td>1993-09-01T00:00:00Z</td>\n",
       "      <td>1993-09-01T00:00:00Z</td>\n",
       "      <td>cs.AI</td>\n",
       "      <td>['cs.AI']</td>\n",
       "      <td>An Empirical Analysis of Search in GSAT We des...</td>\n",
       "    </tr>\n",
       "    <tr>\n",
       "      <th>3</th>\n",
       "      <td>The Difficulties of Learning Logic Programs wi...</td>\n",
       "      <td>As real logic programmers normally use cut (!)...</td>\n",
       "      <td>F. Bergadano</td>\n",
       "      <td>http://arxiv.org/pdf/cs/9311101v1</td>\n",
       "      <td>1993-11-01T00:00:00Z</td>\n",
       "      <td>1993-11-01T00:00:00Z</td>\n",
       "      <td>cs.AI</td>\n",
       "      <td>['cs.AI']</td>\n",
       "      <td>The Difficulties of Learning Logic Programs wi...</td>\n",
       "    </tr>\n",
       "    <tr>\n",
       "      <th>4</th>\n",
       "      <td>Software Agents: Completing Patterns and Const...</td>\n",
       "      <td>To support the goal of allowing users to recor...</td>\n",
       "      <td>J. C. Schlimmer</td>\n",
       "      <td>http://arxiv.org/pdf/cs/9311102v1</td>\n",
       "      <td>1993-11-01T00:00:00Z</td>\n",
       "      <td>1993-11-01T00:00:00Z</td>\n",
       "      <td>cs.AI</td>\n",
       "      <td>['cs.AI']</td>\n",
       "      <td>Software Agents: Completing Patterns and Const...</td>\n",
       "    </tr>\n",
       "    <tr>\n",
       "      <th>...</th>\n",
       "      <td>...</td>\n",
       "      <td>...</td>\n",
       "      <td>...</td>\n",
       "      <td>...</td>\n",
       "      <td>...</td>\n",
       "      <td>...</td>\n",
       "      <td>...</td>\n",
       "      <td>...</td>\n",
       "      <td>...</td>\n",
       "    </tr>\n",
       "    <tr>\n",
       "      <th>52868</th>\n",
       "      <td>Nonparametric Spherical Regression Using Diffe...</td>\n",
       "      <td>Spherical regression explores relationships be...</td>\n",
       "      <td>Michael Rosenthal</td>\n",
       "      <td>http://arxiv.org/pdf/1702.00823v1</td>\n",
       "      <td>2017-02-02T20:46:28Z</td>\n",
       "      <td>2017-02-02T20:46:28Z</td>\n",
       "      <td>stat.OT</td>\n",
       "      <td>['stat.OT']</td>\n",
       "      <td>Nonparametric Spherical Regression Using Diffe...</td>\n",
       "    </tr>\n",
       "    <tr>\n",
       "      <th>52869</th>\n",
       "      <td>MH370 Burst Frequency Offset Analysis and Impl...</td>\n",
       "      <td>Malaysian Airlines flight MH370 veered off cou...</td>\n",
       "      <td>Ian D. Holland</td>\n",
       "      <td>http://arxiv.org/pdf/1702.02432v3</td>\n",
       "      <td>2017-02-07T07:58:35Z</td>\n",
       "      <td>2018-01-15T06:27:28Z</td>\n",
       "      <td>stat.OT</td>\n",
       "      <td>['stat.OT']</td>\n",
       "      <td>MH370 Burst Frequency Offset Analysis and Impl...</td>\n",
       "    </tr>\n",
       "    <tr>\n",
       "      <th>52870</th>\n",
       "      <td>Social Big Data Analytics of Consumer Choices:...</td>\n",
       "      <td>This dissertation examines three distinct big ...</td>\n",
       "      <td>Meisam Hejazi Nia</td>\n",
       "      <td>http://arxiv.org/pdf/1702.07074v1</td>\n",
       "      <td>2017-02-23T02:39:59Z</td>\n",
       "      <td>2017-02-23T02:39:59Z</td>\n",
       "      <td>stat.OT</td>\n",
       "      <td>['stat.OT']</td>\n",
       "      <td>Social Big Data Analytics of Consumer Choices:...</td>\n",
       "    </tr>\n",
       "    <tr>\n",
       "      <th>52871</th>\n",
       "      <td>J.B.S. Haldane Could Have Done Better</td>\n",
       "      <td>In a review on the contribution of J.B.S. Hald...</td>\n",
       "      <td>Claus Vogl</td>\n",
       "      <td>http://arxiv.org/pdf/1702.08261v1</td>\n",
       "      <td>2017-02-27T13:02:58Z</td>\n",
       "      <td>2017-02-27T13:02:58Z</td>\n",
       "      <td>stat.OT</td>\n",
       "      <td>['stat.OT']</td>\n",
       "      <td>J.B.S. Haldane Could Have Done Better In a rev...</td>\n",
       "    </tr>\n",
       "    <tr>\n",
       "      <th>52872</th>\n",
       "      <td>Scientific progress despite irreproducibility:...</td>\n",
       "      <td>It appears paradoxical that science is produci...</td>\n",
       "      <td>Richard M. Shiffrin</td>\n",
       "      <td>http://arxiv.org/pdf/1710.01946v1</td>\n",
       "      <td>2017-10-05T10:10:56Z</td>\n",
       "      <td>2017-10-05T10:10:56Z</td>\n",
       "      <td>stat.OT</td>\n",
       "      <td>['stat.OT']</td>\n",
       "      <td>Scientific progress despite irreproducibility:...</td>\n",
       "    </tr>\n",
       "  </tbody>\n",
       "</table>\n",
       "<p>15304 rows × 9 columns</p>\n",
       "</div>"
      ],
      "text/plain": [
       "                                                   Title  \\\n",
       "0                                   Dynamic Backtracking   \n",
       "1      A Market-Oriented Programming Environment and ...   \n",
       "2                An Empirical Analysis of Search in GSAT   \n",
       "3      The Difficulties of Learning Logic Programs wi...   \n",
       "4      Software Agents: Completing Patterns and Const...   \n",
       "...                                                  ...   \n",
       "52868  Nonparametric Spherical Regression Using Diffe...   \n",
       "52869  MH370 Burst Frequency Offset Analysis and Impl...   \n",
       "52870  Social Big Data Analytics of Consumer Choices:...   \n",
       "52871              J.B.S. Haldane Could Have Done Better   \n",
       "52872  Scientific progress despite irreproducibility:...   \n",
       "\n",
       "                                                 Summary               Author  \\\n",
       "0      Because of their occasional need to return to ...       M. L. Ginsberg   \n",
       "1      Market price systems constitute a well-underst...        M. P. Wellman   \n",
       "2      We describe an extensive study of search in GS...           I. P. Gent   \n",
       "3      As real logic programmers normally use cut (!)...         F. Bergadano   \n",
       "4      To support the goal of allowing users to recor...      J. C. Schlimmer   \n",
       "...                                                  ...                  ...   \n",
       "52868  Spherical regression explores relationships be...    Michael Rosenthal   \n",
       "52869  Malaysian Airlines flight MH370 veered off cou...       Ian D. Holland   \n",
       "52870  This dissertation examines three distinct big ...    Meisam Hejazi Nia   \n",
       "52871  In a review on the contribution of J.B.S. Hald...           Claus Vogl   \n",
       "52872  It appears paradoxical that science is produci...  Richard M. Shiffrin   \n",
       "\n",
       "                                    Link          Publish Date  \\\n",
       "0      http://arxiv.org/pdf/cs/9308101v1  1993-08-01T00:00:00Z   \n",
       "1      http://arxiv.org/pdf/cs/9308102v1  1993-08-01T00:00:00Z   \n",
       "2      http://arxiv.org/pdf/cs/9309101v1  1993-09-01T00:00:00Z   \n",
       "3      http://arxiv.org/pdf/cs/9311101v1  1993-11-01T00:00:00Z   \n",
       "4      http://arxiv.org/pdf/cs/9311102v1  1993-11-01T00:00:00Z   \n",
       "...                                  ...                   ...   \n",
       "52868  http://arxiv.org/pdf/1702.00823v1  2017-02-02T20:46:28Z   \n",
       "52869  http://arxiv.org/pdf/1702.02432v3  2017-02-07T07:58:35Z   \n",
       "52870  http://arxiv.org/pdf/1702.07074v1  2017-02-23T02:39:59Z   \n",
       "52871  http://arxiv.org/pdf/1702.08261v1  2017-02-27T13:02:58Z   \n",
       "52872  http://arxiv.org/pdf/1710.01946v1  2017-10-05T10:10:56Z   \n",
       "\n",
       "                Update Date Primary Category     Category  \\\n",
       "0      1993-08-01T00:00:00Z            cs.AI    ['cs.AI']   \n",
       "1      1993-08-01T00:00:00Z            cs.AI    ['cs.AI']   \n",
       "2      1993-09-01T00:00:00Z            cs.AI    ['cs.AI']   \n",
       "3      1993-11-01T00:00:00Z            cs.AI    ['cs.AI']   \n",
       "4      1993-11-01T00:00:00Z            cs.AI    ['cs.AI']   \n",
       "...                     ...              ...          ...   \n",
       "52868  2017-02-02T20:46:28Z          stat.OT  ['stat.OT']   \n",
       "52869  2018-01-15T06:27:28Z          stat.OT  ['stat.OT']   \n",
       "52870  2017-02-23T02:39:59Z          stat.OT  ['stat.OT']   \n",
       "52871  2017-02-27T13:02:58Z          stat.OT  ['stat.OT']   \n",
       "52872  2017-10-05T10:10:56Z          stat.OT  ['stat.OT']   \n",
       "\n",
       "                                                    text  \n",
       "0      Dynamic Backtracking Because of their occasion...  \n",
       "1      A Market-Oriented Programming Environment and ...  \n",
       "2      An Empirical Analysis of Search in GSAT We des...  \n",
       "3      The Difficulties of Learning Logic Programs wi...  \n",
       "4      Software Agents: Completing Patterns and Const...  \n",
       "...                                                  ...  \n",
       "52868  Nonparametric Spherical Regression Using Diffe...  \n",
       "52869  MH370 Burst Frequency Offset Analysis and Impl...  \n",
       "52870  Social Big Data Analytics of Consumer Choices:...  \n",
       "52871  J.B.S. Haldane Could Have Done Better In a rev...  \n",
       "52872  Scientific progress despite irreproducibility:...  \n",
       "\n",
       "[15304 rows x 9 columns]"
      ]
     },
     "execution_count": 15,
     "metadata": {},
     "output_type": "execute_result"
    }
   ],
   "source": [
    "papers"
   ]
  },
  {
   "cell_type": "code",
   "execution_count": null,
   "id": "652f6451",
   "metadata": {},
   "outputs": [],
   "source": [
    "combined_embeddings = np.hstack([text_embeddings, cat_embeddings])\n",
    "x&d\n",
    "similarity_matrix = cosine_similarity(combined_embeddings)"
   ]
  },
  {
   "cell_type": "code",
   "execution_count": 17,
   "id": "7e21edf3",
   "metadata": {},
   "outputs": [],
   "source": [
    "np.save('similarity_matrix.npy', similarity_matrix)"
   ]
  },
  {
   "cell_type": "code",
   "execution_count": 18,
   "id": "105fd0c4",
   "metadata": {},
   "outputs": [
    {
     "name": "stdout",
     "output_type": "stream",
     "text": [
      "Original Article:\n",
      " Title                                            Dynamic Backtracking\n",
      "Summary             Because of their occasional need to return to ...\n",
      "Author                                                 M. L. Ginsberg\n",
      "Link                                http://arxiv.org/pdf/cs/9308101v1\n",
      "Publish Date                                     1993-08-01T00:00:00Z\n",
      "Update Date                                      1993-08-01T00:00:00Z\n",
      "Primary Category                                                cs.AI\n",
      "Category                                                    ['cs.AI']\n",
      "text                Dynamic Backtracking Because of their occasion...\n",
      "Name: 0, dtype: object\n",
      "\n",
      "Recommended Articles:\n",
      "                                                 Title       Author  \\\n",
      "66  Accelerating Partial-Order Planners: Some Tech...  A. Gerevini   \n",
      "91        Bidirectional Heuristic Search Reconsidered    H. Kaindl   \n",
      "90          When Gravity Fails: Local Search Topology     J. Frank   \n",
      "46  The Design and Experimental Analysis of Algori...   P. vanBeek   \n",
      "25  Using Pivot Consistency to Decompose and Solve...     P. David   \n",
      "\n",
      "   Primary Category   Category  \n",
      "66            cs.AI  ['cs.AI']  \n",
      "91            cs.AI  ['cs.AI']  \n",
      "90            cs.AI  ['cs.AI']  \n",
      "46            cs.AI  ['cs.AI']  \n",
      "25            cs.AI  ['cs.AI']  \n"
     ]
    }
   ],
   "source": [
    "def recommend_articles(article_index, top_n=5):\n",
    "    similarity_scores = similarity_matrix[article_index]\n",
    "    similar_indices = similarity_scores.argsort()[::-1][1:top_n+1]\n",
    "    return papers.iloc[similar_indices][['Title', 'Author', 'Primary Category', 'Category']]\n",
    "\n",
    "article_idx = 0\n",
    "print(\"Original Article:\\n\", papers.iloc[article_idx])\n",
    "print(\"\\nRecommended Articles:\\n\", recommend_articles(article_idx, top_n=5))"
   ]
  }
 ],
 "metadata": {
  "kernelspec": {
   "display_name": "mlops",
   "language": "python",
   "name": "python3"
  },
  "language_info": {
   "codemirror_mode": {
    "name": "ipython",
    "version": 3
   },
   "file_extension": ".py",
   "mimetype": "text/x-python",
   "name": "python",
   "nbconvert_exporter": "python",
   "pygments_lexer": "ipython3",
   "version": "3.12.11"
  }
 },
 "nbformat": 4,
 "nbformat_minor": 5
}
